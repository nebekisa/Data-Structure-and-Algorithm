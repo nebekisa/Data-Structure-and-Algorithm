{
 "cells": [
  {
   "cell_type": "markdown",
   "id": "1016c35c",
   "metadata": {},
   "source": [
    "# cjdfkj"
   ]
  },
  {
   "cell_type": "markdown",
   "id": "3939f619",
   "metadata": {},
   "source": [
    "<h2> Write a function for the Bubble sort algorithm to sort the list of student dictionaries by ID"
   ]
  },
  {
   "cell_type": "markdown",
   "id": "effd7ae0",
   "metadata": {},
   "source": [
    "<h4>This notebook demonstrates how to sort a list of student dictionaries by their ID using the bubble sort algorithm </h4>"
   ]
  },
  {
   "cell_type": "markdown",
   "id": "64079c06",
   "metadata": {},
   "source": [
    "<h4>- **Bubble Sort** is a simple comparison-based sorting algorithm\n",
    "- It repeatedly steps through the list, compares adjacent elements, and swaps them if they are in the wrong order\n",
    "- The process is repeated until the list is sorted</h4>"
   ]
  },
  {
   "cell_type": "markdown",
   "id": "b9894243",
   "metadata": {},
   "source": [
    "<h4>Implementation\n",
    "1. The function takes a list of student dictionaries\n",
    "2. Compares the numeric portion of student IDs (after 'DBU')\n",
    "3. Performs in-place sorting (modifies the original list)\n",
    "4. Returns the sorted list\n",
    "</h4>"
   ]
  },
  {
   "cell_type": "markdown",
   "id": "23bf0d2a",
   "metadata": {},
   "source": []
  },
  {
   "cell_type": "code",
   "execution_count": 2,
   "id": "3415fc07",
   "metadata": {},
   "outputs": [],
   "source": [
    "Students = [\n",
    "{'id': 'DBU1578942', 'name': 'Dawit', 'dept': 'CS', 'cgpa': 3.45},\n",
    "{'id': 'DBU1534567', 'name': 'Abrham', 'dept': 'DS', 'cgpa': 3.12},\n",
    "{'id': 'DBU1598765', 'name': 'Soliana', 'dept': 'CS', 'cgpa': 2.74},\n",
    "{'id': 'DBU1543210', 'name': 'Rahel', 'dept': 'DS', 'cgpa': 3.10},\n",
    "{'id': 'DBU1524680', 'name': 'Mikias', 'dept': 'CS', 'cgpa': 3.78},\n",
    "{'id': 'DBU1567891', 'name': 'Betty', 'dept': 'DS', 'cgpa': 2.89},\n",
    "{'id': 'DBU1512345', 'name': 'Yohannes', 'dept': 'CS', 'cgpa': 3.56},\n",
    "{'id': 'DBU1587654', 'name': 'Tigist', 'dept': 'DS', 'cgpa': 3.23},\n",
    "{'id': 'DBU1599999', 'name': 'Daniel', 'dept': 'CS', 'cgpa': 3.67},\n",
    "{'id': 'DBU1501234', 'name': 'Helen', 'dept': 'DS', 'cgpa': 3.91}\n",
    "]"
   ]
  },
  {
   "cell_type": "markdown",
   "id": "02b24def",
   "metadata": {},
   "source": [
    " <h3>Bubble sort function to sort by ID"
   ]
  },
  {
   "cell_type": "code",
   "execution_count": 4,
   "id": "b84c4dd5",
   "metadata": {},
   "outputs": [
    {
     "name": "stdout",
     "output_type": "stream",
     "text": [
      "\n",
      "Sorted student list by ID:\n",
      "{'id': 'DBU1501234', 'name': 'Helen', 'dept': 'DS', 'cgpa': 3.91}\n",
      "{'id': 'DBU1512345', 'name': 'Yohannes', 'dept': 'CS', 'cgpa': 3.56}\n",
      "{'id': 'DBU1524680', 'name': 'Mikias', 'dept': 'CS', 'cgpa': 3.78}\n",
      "{'id': 'DBU1534567', 'name': 'Abrham', 'dept': 'DS', 'cgpa': 3.12}\n",
      "{'id': 'DBU1543210', 'name': 'Rahel', 'dept': 'DS', 'cgpa': 3.1}\n",
      "{'id': 'DBU1567891', 'name': 'Betty', 'dept': 'DS', 'cgpa': 2.89}\n",
      "{'id': 'DBU1578942', 'name': 'Dawit', 'dept': 'CS', 'cgpa': 3.45}\n",
      "{'id': 'DBU1587654', 'name': 'Tigist', 'dept': 'DS', 'cgpa': 3.23}\n",
      "{'id': 'DBU1598765', 'name': 'Soliana', 'dept': 'CS', 'cgpa': 2.74}\n",
      "{'id': 'DBU1599999', 'name': 'Daniel', 'dept': 'CS', 'cgpa': 3.67}\n"
     ]
    }
   ],
   "source": [
    "def bubble(stud_list):\n",
    "    n = len(stud_list) - 1\n",
    "    for i in range(len(stud_list)):\n",
    "        for j in range(0, n - i):\n",
    "            if int(stud_list[j]['id'][3:]) > int(stud_list[j+1]['id'][3:]):\n",
    "                temp = stud_list[j]\n",
    "                stud_list[j] = stud_list[j+1]\n",
    "                stud_list[j+1] = temp\n",
    "    return stud_list\n",
    "sorted_list = bubble(Students)\n",
    "print(\"\\nSorted student list by ID:\")\n",
    "for student in sorted_list:\n",
    "    print(student)"
   ]
  },
  {
   "cell_type": "markdown",
   "id": "14118d3b",
   "metadata": {},
   "source": [
    "<h4>\n",
    "The code will output the students sorted by their ID in ascending order:"
   ]
  },
  {
   "cell_type": "markdown",
   "id": "eb782104",
   "metadata": {},
   "source": [
    "<h2>Write a function for the Insertion sort algorithm to sort the list of students alphabetically by Name"
   ]
  },
  {
   "cell_type": "markdown",
   "id": "1edb2317",
   "metadata": {},
   "source": [
    "<h4>This implementation sorts a list of student dictionaries alphabetically by name using insertion sort."
   ]
  },
  {
   "cell_type": "markdown",
   "id": "1133539c",
   "metadata": {},
   "source": [
    "<h4> How It Works:\n",
    "1. Iterates through each student starting from the 2nd one:\n",
    "2. For each student, finds its correct position in the sorted portion:\n",
    "3. Shifts larger names to the right:\n",
    "4. Inserts the student in the correct position:"
   ]
  },
  {
   "cell_type": "code",
   "execution_count": 5,
   "id": "4979a02f",
   "metadata": {},
   "outputs": [
    {
     "name": "stdout",
     "output_type": "stream",
     "text": [
      "{'id': 'DBU1534567', 'name': 'Abrham', 'dept': 'DS', 'cgpa': 3.12}\n",
      "{'id': 'DBU1567891', 'name': 'Betty', 'dept': 'DS', 'cgpa': 2.89}\n",
      "{'id': 'DBU1599999', 'name': 'Daniel', 'dept': 'CS', 'cgpa': 3.67}\n",
      "{'id': 'DBU1578942', 'name': 'Dawit', 'dept': 'CS', 'cgpa': 3.45}\n",
      "{'id': 'DBU1501234', 'name': 'Helen', 'dept': 'DS', 'cgpa': 3.91}\n",
      "{'id': 'DBU1524680', 'name': 'Mikias', 'dept': 'CS', 'cgpa': 3.78}\n",
      "{'id': 'DBU1543210', 'name': 'Rahel', 'dept': 'DS', 'cgpa': 3.1}\n",
      "{'id': 'DBU1598765', 'name': 'Soliana', 'dept': 'CS', 'cgpa': 2.74}\n",
      "{'id': 'DBU1587654', 'name': 'Tigist', 'dept': 'DS', 'cgpa': 3.23}\n",
      "{'id': 'DBU1512345', 'name': 'Yohannes', 'dept': 'CS', 'cgpa': 3.56}\n"
     ]
    }
   ],
   "source": [
    "def insertion(stud_list):\n",
    "    for i in range(1,len(stud_list)):\n",
    "        current_student=stud_list[i]\n",
    "        current_name=current_student['name'].lower()\n",
    "        j=i-1\n",
    "        while j>=0 and current_name<stud_list[j]['name'].lower():\n",
    "            stud_list[j+1]=stud_list[j]\n",
    "            j-=1\n",
    "        stud_list[j+1]=current_student\n",
    "    return stud_list\n",
    "sorted_list=insertion(Students)\n",
    "for student in Students:\n",
    "    print(student)"
   ]
  },
  {
   "cell_type": "markdown",
   "id": "9edb535c",
   "metadata": {},
   "source": [
    "<h4>The code will output students sorted alphabetically by name (case-insensitive):"
   ]
  },
  {
   "cell_type": "markdown",
   "id": "9d5c6add",
   "metadata": {},
   "source": [
    "<h2>Write a function for the Selection sort algorithm to sort the list of students by CGPA In descending order (Highest scorer to Lowest scorer)"
   ]
  },
  {
   "cell_type": "markdown",
   "id": "4b99802b",
   "metadata": {},
   "source": [
    "<h4>This implementation sorts a list of student dictionaries by CGPA using selection sort"
   ]
  },
  {
   "cell_type": "markdown",
   "id": "b74f732b",
   "metadata": {},
   "source": [
    "<h4>How Selection Sort Works:\n",
    "1. Divides the list into sorted and unsorted portions\n",
    "2. Repeatedly finds the student with the highest CGPA in the unsorted portion\n",
    "3. Swaps it with the leftmost unsorted student\n",
    "4. Expands the sorted portion by one element each iteration"
   ]
  },
  {
   "cell_type": "markdown",
   "id": "4e805727",
   "metadata": {},
   "source": []
  }
 ],
 "metadata": {
  "kernelspec": {
   "display_name": ".venv",
   "language": "python",
   "name": "python3"
  },
  "language_info": {
   "codemirror_mode": {
    "name": "ipython",
    "version": 3
   },
   "file_extension": ".py",
   "mimetype": "text/x-python",
   "name": "python",
   "nbconvert_exporter": "python",
   "pygments_lexer": "ipython3",
   "version": "3.13.1"
  }
 },
 "nbformat": 4,
 "nbformat_minor": 5
}
