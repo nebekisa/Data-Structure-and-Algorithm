{
 "cells": [
  {
   "cell_type": "markdown",
   "id": "1016c35c",
   "metadata": {},
   "source": [
    "# cjdfkj"
   ]
  },
  {
   "cell_type": "markdown",
   "id": "939e21c2",
   "metadata": {},
   "source": [
    "## Create a Python program that generates at least 10 students' profiles that contain (id, name,  dept, cgpa)using a dictionary like the following format:Students"
   ]
  },
  {
   "cell_type": "markdown",
   "id": "3939f619",
   "metadata": {},
   "source": [
    "# ---------------Students Dictionary--------------"
   ]
  },
  {
   "cell_type": "markdown",
   "id": "23bf0d2a",
   "metadata": {},
   "source": []
  },
  {
   "cell_type": "code",
   "execution_count": null,
   "id": "3415fc07",
   "metadata": {
    "vscode": {
     "languageId": "plaintext"
    }
   },
   "outputs": [],
   "source": [
    "Students = [\n",
    "{'id': 'DBU1578942', 'name': 'Dawit', 'dept': 'CS', 'cgpa': 3.45},\n",
    "{'id': 'DBU1534567', 'name': 'Abrham', 'dept': 'DS', 'cgpa': 3.12},\n",
    "{'id': 'DBU1598765', 'name': 'Soliana', 'dept': 'CS', 'cgpa': 2.74},\n",
    "{'id': 'DBU1543210', 'name': 'Rahel', 'dept': 'DS', 'cgpa': 3.10},\n",
    "{'id': 'DBU1524680', 'name': 'Mikias', 'dept': 'CS', 'cgpa': 3.78},\n",
    "{'id': 'DBU1567891', 'name': 'Betty', 'dept': 'DS', 'cgpa': 2.89},\n",
    "{'id': 'DBU1512345', 'name': 'Yohannes', 'dept': 'CS', 'cgpa': 3.56},\n",
    "{'id': 'DBU1587654', 'name': 'Tigist', 'dept': 'DS', 'cgpa': 3.23},\n",
    "{'id': 'DBU1599999', 'name': 'Daniel', 'dept': 'CS', 'cgpa': 3.67},\n",
    "{'id': 'DBU1501234', 'name': 'Helen', 'dept': 'DS', 'cgpa': 3.91}\n",
    "]"
   ]
  },
  {
   "cell_type": "markdown",
   "id": "e6c64d9b",
   "metadata": {},
   "source": [
    "## This is a list of dictionaries where each  dictionary represents a student profile\n",
    "## each student has: id,name,dept,cgpa "
   ]
  },
  {
   "cell_type": "code",
   "execution_count": null,
   "id": "cef5c10a",
   "metadata": {
    "vscode": {
     "languageId": "plaintext"
    }
   },
   "outputs": [],
   "source": []
  }
 ],
 "metadata": {
  "language_info": {
   "name": "python"
  }
 },
 "nbformat": 4,
 "nbformat_minor": 5
}
