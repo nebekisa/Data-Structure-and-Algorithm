{
 "cells": [
  {
   "cell_type": "markdown",
   "id": "1016c35c",
   "metadata": {},
   "source": [
    "<h1>Name:Bereket Andualem\n",
    "\n",
    "\n",
    "\n",
    "<h1>id:1601442\n",
    "\n",
    "\n",
    "<h1>:Email:\n",
    "<h1>:Githublink"
   ]
  },
  {
   "cell_type": "markdown",
   "id": "3939f619",
   "metadata": {},
   "source": [
    "<h2 > Write a function for the Bubble sort algorithm to sort the list of student dictionaries by ID"
   ]
  },
  {
   "cell_type": "markdown",
   "id": "effd7ae0",
   "metadata": {},
   "source": [
    "<h4>This notebook demonstrates how to sort a list of student dictionaries by their ID using the bubble sort algorithm </h4>"
   ]
  },
  {
   "cell_type": "markdown",
   "id": "64079c06",
   "metadata": {},
   "source": [
    "<h4>- **Bubble Sort** is a simple comparison-based sorting algorithm\n",
    "<h4>- It repeatedly steps through the list, compares adjacent elements, and swaps them if they are in the wrong order\n",
    "<h4>- The process is repeated until the list is sorted</h4>"
   ]
  },
  {
   "cell_type": "markdown",
   "id": "b9894243",
   "metadata": {},
   "source": [
    "<h4>Implementation\n",
    "<h4>1. The function takes a list of student dictionaries\n",
    "<h4>2. Compares the numeric portion of student IDs (after 'DBU')\n",
    "<h4>3. Performs in-place sorting (modifies the original list)\n",
    "<h4>4. Returns the sorted list\n",
    "</h4>"
   ]
  },
  {
   "cell_type": "markdown",
   "id": "23bf0d2a",
   "metadata": {},
   "source": []
  },
  {
   "cell_type": "code",
   "execution_count": 2,
   "id": "3415fc07",
   "metadata": {},
   "outputs": [],
   "source": [
    "Students = [\n",
    "{'id': 'DBU1578942', 'name': 'Dawit', 'dept': 'CS', 'cgpa': 3.45},\n",
    "{'id': 'DBU1534567', 'name': 'Abrham', 'dept': 'DS', 'cgpa': 3.12},\n",
    "{'id': 'DBU1598765', 'name': 'Soliana', 'dept': 'CS', 'cgpa': 2.74},\n",
    "{'id': 'DBU1543210', 'name': 'Rahel', 'dept': 'DS', 'cgpa': 3.10},\n",
    "{'id': 'DBU1524680', 'name': 'Mikias', 'dept': 'CS', 'cgpa': 3.78},\n",
    "{'id': 'DBU1567891', 'name': 'Betty', 'dept': 'DS', 'cgpa': 2.89},\n",
    "{'id': 'DBU1512345', 'name': 'Yohannes', 'dept': 'CS', 'cgpa': 3.56},\n",
    "{'id': 'DBU1587654', 'name': 'Tigist', 'dept': 'DS', 'cgpa': 3.23},\n",
    "{'id': 'DBU1599999', 'name': 'Daniel', 'dept': 'CS', 'cgpa': 3.67},\n",
    "{'id': 'DBU1501234', 'name': 'Helen', 'dept': 'DS', 'cgpa': 3.91}\n",
    "]"
   ]
  },
  {
   "cell_type": "markdown",
   "id": "02b24def",
   "metadata": {},
   "source": [
    " <h3>Bubble sort function to sort by ID"
   ]
  },
  {
   "cell_type": "code",
   "execution_count": 4,
   "id": "b84c4dd5",
   "metadata": {},
   "outputs": [
    {
     "name": "stdout",
     "output_type": "stream",
     "text": [
      "\n",
      "Sorted student list by ID:\n",
      "{'id': 'DBU1501234', 'name': 'Helen', 'dept': 'DS', 'cgpa': 3.91}\n",
      "{'id': 'DBU1512345', 'name': 'Yohannes', 'dept': 'CS', 'cgpa': 3.56}\n",
      "{'id': 'DBU1524680', 'name': 'Mikias', 'dept': 'CS', 'cgpa': 3.78}\n",
      "{'id': 'DBU1534567', 'name': 'Abrham', 'dept': 'DS', 'cgpa': 3.12}\n",
      "{'id': 'DBU1543210', 'name': 'Rahel', 'dept': 'DS', 'cgpa': 3.1}\n",
      "{'id': 'DBU1567891', 'name': 'Betty', 'dept': 'DS', 'cgpa': 2.89}\n",
      "{'id': 'DBU1578942', 'name': 'Dawit', 'dept': 'CS', 'cgpa': 3.45}\n",
      "{'id': 'DBU1587654', 'name': 'Tigist', 'dept': 'DS', 'cgpa': 3.23}\n",
      "{'id': 'DBU1598765', 'name': 'Soliana', 'dept': 'CS', 'cgpa': 2.74}\n",
      "{'id': 'DBU1599999', 'name': 'Daniel', 'dept': 'CS', 'cgpa': 3.67}\n"
     ]
    }
   ],
   "source": [
    "def bubble(stud_list):\n",
    "    n = len(stud_list) - 1\n",
    "    for i in range(len(stud_list)):\n",
    "        for j in range(0, n - i):\n",
    "            if int(stud_list[j]['id'][3:]) > int(stud_list[j+1]['id'][3:]):\n",
    "                temp = stud_list[j]\n",
    "                stud_list[j] = stud_list[j+1]\n",
    "                stud_list[j+1] = temp\n",
    "    return stud_list\n",
    "sorted_list = bubble(Students)\n",
    "print(\"\\nSorted student list by ID:\")\n",
    "for student in sorted_list:\n",
    "    print(student)"
   ]
  },
  {
   "cell_type": "markdown",
   "id": "14118d3b",
   "metadata": {},
   "source": [
    "<h4>\n",
    "The code will output the students sorted by their ID in ascending order:"
   ]
  },
  {
   "cell_type": "markdown",
   "id": "eb782104",
   "metadata": {},
   "source": [
    "<h2>Write a function for the Insertion sort algorithm to sort the list of students alphabetically by Name"
   ]
  },
  {
   "cell_type": "markdown",
   "id": "1edb2317",
   "metadata": {},
   "source": [
    "<h4>This implementation sorts a list of student dictionaries alphabetically by name using insertion sort."
   ]
  },
  {
   "cell_type": "markdown",
   "id": "1133539c",
   "metadata": {},
   "source": [
    "<h4> How It Works:\n",
    "<h4>1. Iterates through each student starting from the 2nd one:\n",
    "<h4>2. For each student, finds its correct position in the sorted portion:\n",
    "<h4>3. Shifts larger names to the right:\n",
    "<h4>4. Inserts the student in the correct position:"
   ]
  },
  {
   "cell_type": "code",
   "execution_count": 5,
   "id": "4979a02f",
   "metadata": {},
   "outputs": [
    {
     "name": "stdout",
     "output_type": "stream",
     "text": [
      "{'id': 'DBU1534567', 'name': 'Abrham', 'dept': 'DS', 'cgpa': 3.12}\n",
      "{'id': 'DBU1567891', 'name': 'Betty', 'dept': 'DS', 'cgpa': 2.89}\n",
      "{'id': 'DBU1599999', 'name': 'Daniel', 'dept': 'CS', 'cgpa': 3.67}\n",
      "{'id': 'DBU1578942', 'name': 'Dawit', 'dept': 'CS', 'cgpa': 3.45}\n",
      "{'id': 'DBU1501234', 'name': 'Helen', 'dept': 'DS', 'cgpa': 3.91}\n",
      "{'id': 'DBU1524680', 'name': 'Mikias', 'dept': 'CS', 'cgpa': 3.78}\n",
      "{'id': 'DBU1543210', 'name': 'Rahel', 'dept': 'DS', 'cgpa': 3.1}\n",
      "{'id': 'DBU1598765', 'name': 'Soliana', 'dept': 'CS', 'cgpa': 2.74}\n",
      "{'id': 'DBU1587654', 'name': 'Tigist', 'dept': 'DS', 'cgpa': 3.23}\n",
      "{'id': 'DBU1512345', 'name': 'Yohannes', 'dept': 'CS', 'cgpa': 3.56}\n"
     ]
    }
   ],
   "source": [
    "def insertion(stud_list):\n",
    "    for i in range(1,len(stud_list)):\n",
    "        current_student=stud_list[i]\n",
    "        current_name=current_student['name'].lower()\n",
    "        j=i-1\n",
    "        while j>=0 and current_name<stud_list[j]['name'].lower():\n",
    "            stud_list[j+1]=stud_list[j]\n",
    "            j-=1\n",
    "        stud_list[j+1]=current_student\n",
    "    return stud_list\n",
    "sorted_list=insertion(Students)\n",
    "for student in Students:\n",
    "    print(student)"
   ]
  },
  {
   "cell_type": "markdown",
   "id": "9edb535c",
   "metadata": {},
   "source": [
    "<h4>The code will output students sorted alphabetically by name (case-insensitive):"
   ]
  },
  {
   "cell_type": "markdown",
   "id": "9d5c6add",
   "metadata": {},
   "source": [
    "<h2>Write a function for the Selection sort algorithm to sort the list of students by CGPA In descending order (Highest scorer to Lowest scorer)"
   ]
  },
  {
   "cell_type": "markdown",
   "id": "4b99802b",
   "metadata": {},
   "source": [
    "<h4>This implementation sorts a list of student dictionaries by CGPA using selection sort"
   ]
  },
  {
   "cell_type": "markdown",
   "id": "b74f732b",
   "metadata": {},
   "source": [
    "<h4>How Selection Sort Works:\n",
    "<h4>1. Divides the list into sorted and unsorted portions\n",
    "<h4>2. Repeatedly finds the student with the highest CGPA in the unsorted portion\n",
    "<h4>3. Swaps it with the leftmost unsorted student\n",
    "<h4>4. Expands the sorted portion by one element each iteration"
   ]
  },
  {
   "cell_type": "code",
   "execution_count": null,
   "id": "b6980b6f",
   "metadata": {},
   "outputs": [
    {
     "name": "stdout",
     "output_type": "stream",
     "text": [
      "Top Scorers (Highest to Lowest CGPA):\n",
      "1. Helen    | CGPA: 3.91 | ID: DBU1501234\n",
      "2. Mikias   | CGPA: 3.78 | ID: DBU1524680\n",
      "3. Daniel   | CGPA: 3.67 | ID: DBU1599999\n",
      "4. Yohannes | CGPA: 3.56 | ID: DBU1512345\n",
      "5. Dawit    | CGPA: 3.45 | ID: DBU1578942\n",
      "6. Tigist   | CGPA: 3.23 | ID: DBU1587654\n",
      "7. Abrham   | CGPA: 3.12 | ID: DBU1534567\n",
      "8. Rahel    | CGPA: 3.10 | ID: DBU1543210\n",
      "9. Betty    | CGPA: 2.89 | ID: DBU1567891\n",
      "10. Soliana  | CGPA: 2.74 | ID: DBU1598765\n"
     ]
    }
   ],
   "source": [
    "def selection(stud_list):\n",
    "    n = len(stud_list)\n",
    "    for i in range(n):\n",
    "        max_idx = i\n",
    "        for j in range(i + 1, n):\n",
    "            if stud_list[j]['cgpa'] > stud_list[max_idx]['cgpa']:\n",
    "                max_idx = j\n",
    "        stud_list[i], stud_list[max_idx] = stud_list[max_idx], stud_list[i]\n",
    "    \n",
    "    return stud_list\n",
    "sorted_students = selection(Students)\n",
    "print(\"Top Scorers (Highest to Lowest CGPA):\")\n",
    "for idx, student in enumerate(sorted_students, 1):\n",
    "    print(f\"{idx}. {student['name']:8} | CGPA: {student['cgpa']:.2f} | ID: {student['id']}\")\n",
    "        "
   ]
  },
  {
   "cell_type": "markdown",
   "id": "d264c423",
   "metadata": {},
   "source": [
    "<h4>Students will be displayed in descending order of CGPA"
   ]
  },
  {
   "cell_type": "markdown",
   "id": "bd9febbf",
   "metadata": {},
   "source": [
    "<h2>Compare the performance of each algorithm you used in the implementation\n"
   ]
  },
  {
   "cell_type": "markdown",
   "id": "b708f04d",
   "metadata": {},
   "source": [
    "<h4> Bubble Sort\n",
    "<h4>*Best Case: O(n) when list is already sorted (only needs one pass\n",
    "<h4>*Worst Case: O(n²) when list is reverse sorted</h4>"
   ]
  },
  {
   "cell_type": "markdown",
   "id": "192700f6",
   "metadata": {},
   "source": [
    "<h4>Insertion Sort\n",
    "<h4>*Best Case: O(n) when list is nearly sorted\n",
    "\n",
    "<h4>*Worst Case: O(n²) when list is reverse sorted"
   ]
  },
  {
   "cell_type": "markdown",
   "id": "4c4118be",
   "metadata": {},
   "source": [
    "<h4>Selection Sort\n",
    "<h4>*Best/Worst Case: Always O(n²) (must scan entire unsorted portion each time)"
   ]
  },
  {
   "cell_type": "markdown",
   "id": "c0c13b6a",
   "metadata": {},
   "source": [
    "<h2> Discuss the advantages and disadvantages of each algorithm for sorting dictionary data\n"
   ]
  },
  {
   "cell_type": "markdown",
   "id": "01015795",
   "metadata": {},
   "source": [
    "<h4>Bubble sort\n",
    "<h4>Advantages:\n",
    "    <h4>    Simple to implement\n",
    "        <h4>Detects sorted lists quickly (with optimization)\n",
    "<h4>Disadvantages:\n",
    "    <h4>    Very slow for large datasets\n",
    "        <h4>Many unnecessary comparisons even in average cases\n"
   ]
  },
  {
   "cell_type": "markdown",
   "id": "ce93f7c0",
   "metadata": {},
   "source": [
    "<h4> Insertion sort\n",
    "<h4>Advantages:\n",
    "     <h4> Stable (maintains relative order)\n",
    "      <h4>Efficient for small datasets\n",
    "     <h4> Good for incremental sorting (adding new elements)\n",
    "<h4>Disadvantages:\n",
    "    <h4>   Still O(n²) for random data\n",
    "       <h4>Many shifts required\n"
   ]
  },
  {
   "cell_type": "markdown",
   "id": "d7b4db66",
   "metadata": {},
   "source": [
    "<h4>Selection sort\n",
    "<h4>Advantages:\n",
    "    <h4>Minimizes swaps (maximum of n swaps)\n",
    "    <h4>Simple to implement\n",
    "    <h4>Performs well when write operations are expensive\n",
    "\n",
    "<h4>Disadvantages:\n",
    "    <h4> Not stable (may change order of equal elements)\n",
    "     <h4>Always requires O(n²) comparisons\n"
   ]
  },
  {
   "cell_type": "markdown",
   "id": "8a21580f",
   "metadata": {},
   "source": []
  }
 ],
 "metadata": {
  "kernelspec": {
   "display_name": ".venv",
   "language": "python",
   "name": "python3"
  },
  "language_info": {
   "codemirror_mode": {
    "name": "ipython",
    "version": 3
   },
   "file_extension": ".py",
   "mimetype": "text/x-python",
   "name": "python",
   "nbconvert_exporter": "python",
   "pygments_lexer": "ipython3",
   "version": "3.13.1"
  }
 },
 "nbformat": 4,
 "nbformat_minor": 5
}
